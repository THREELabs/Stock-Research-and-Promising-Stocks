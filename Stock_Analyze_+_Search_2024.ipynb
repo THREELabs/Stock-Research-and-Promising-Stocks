{
  "cells": [
    {
      "cell_type": "code",
      "execution_count": null,
      "metadata": {
        "id": "Oqeo-6Xi8iUP"
      },
      "outputs": [],
      "source": []
    },
    {
      "cell_type": "code",
      "execution_count": null,
      "metadata": {
        "colab": {
          "base_uri": "https://localhost:8080/"
        },
        "id": "vRrcjXhq8iuE",
        "outputId": "a98333e4-887f-4cd5-b71d-0470ff989b30"
      },
      "outputs": [
        {
          "output_type": "stream",
          "name": "stdout",
          "text": [
            "Requirement already satisfied: pandas in /usr/local/lib/python3.10/dist-packages (2.0.3)\n",
            "Requirement already satisfied: tqdm in /usr/local/lib/python3.10/dist-packages (4.66.4)\n",
            "Requirement already satisfied: tabulate in /usr/local/lib/python3.10/dist-packages (0.9.0)\n",
            "Requirement already satisfied: requests in /usr/local/lib/python3.10/dist-packages (2.31.0)\n",
            "Requirement already satisfied: matplotlib in /usr/local/lib/python3.10/dist-packages (3.7.1)\n",
            "Requirement already satisfied: python-dateutil>=2.8.2 in /usr/local/lib/python3.10/dist-packages (from pandas) (2.8.2)\n",
            "Requirement already satisfied: pytz>=2020.1 in /usr/local/lib/python3.10/dist-packages (from pandas) (2023.4)\n",
            "Requirement already satisfied: tzdata>=2022.1 in /usr/local/lib/python3.10/dist-packages (from pandas) (2024.1)\n",
            "Requirement already satisfied: numpy>=1.21.0 in /usr/local/lib/python3.10/dist-packages (from pandas) (1.25.2)\n",
            "Requirement already satisfied: charset-normalizer<4,>=2 in /usr/local/lib/python3.10/dist-packages (from requests) (3.3.2)\n",
            "Requirement already satisfied: idna<4,>=2.5 in /usr/local/lib/python3.10/dist-packages (from requests) (3.7)\n",
            "Requirement already satisfied: urllib3<3,>=1.21.1 in /usr/local/lib/python3.10/dist-packages (from requests) (2.0.7)\n",
            "Requirement already satisfied: certifi>=2017.4.17 in /usr/local/lib/python3.10/dist-packages (from requests) (2024.7.4)\n",
            "Requirement already satisfied: contourpy>=1.0.1 in /usr/local/lib/python3.10/dist-packages (from matplotlib) (1.2.1)\n",
            "Requirement already satisfied: cycler>=0.10 in /usr/local/lib/python3.10/dist-packages (from matplotlib) (0.12.1)\n",
            "Requirement already satisfied: fonttools>=4.22.0 in /usr/local/lib/python3.10/dist-packages (from matplotlib) (4.53.1)\n",
            "Requirement already satisfied: kiwisolver>=1.0.1 in /usr/local/lib/python3.10/dist-packages (from matplotlib) (1.4.5)\n",
            "Requirement already satisfied: packaging>=20.0 in /usr/local/lib/python3.10/dist-packages (from matplotlib) (24.1)\n",
            "Requirement already satisfied: pillow>=6.2.0 in /usr/local/lib/python3.10/dist-packages (from matplotlib) (9.4.0)\n",
            "Requirement already satisfied: pyparsing>=2.3.1 in /usr/local/lib/python3.10/dist-packages (from matplotlib) (3.1.2)\n",
            "Requirement already satisfied: six>=1.5 in /usr/local/lib/python3.10/dist-packages (from python-dateutil>=2.8.2->pandas) (1.16.0)\n"
          ]
        }
      ],
      "source": [
        "!pip install pandas tqdm tabulate requests matplotlib"
      ]
    },
    {
      "cell_type": "code",
      "execution_count": null,
      "metadata": {
        "id": "Em1aUEOW8i7Y",
        "colab": {
          "base_uri": "https://localhost:8080/"
        },
        "outputId": "354b3d13-5205-4999-c023-11593d8274ac"
      },
      "outputs": [
        {
          "output_type": "stream",
          "name": "stdout",
          "text": [
            "\n",
            "Stock Analysis Tool\n",
            "1. Analyze a single stock\n",
            "2. Search for promising stocks\n",
            "3. View Stock Market Glossary\n",
            "4. Exit\n",
            "Enter your choice (1-4): 1\n",
            "Enter the stock ticker symbol: amc\n",
            "\n",
            "Stock Information for AMC:\n",
            "+----------------+---------+\n",
            "| Metric         | Value   |\n",
            "+================+=========+\n",
            "| Current Price  | $5.26   |\n",
            "+----------------+---------+\n",
            "| 52 Week High   | $62.3   |\n",
            "+----------------+---------+\n",
            "| 52 Week Low    | $2.38   |\n",
            "+----------------+---------+\n",
            "| Market Cap     | $1.55B  |\n",
            "+----------------+---------+\n",
            "| P/E Ratio      | N/A     |\n",
            "+----------------+---------+\n",
            "| Dividend Yield | 0.00%   |\n",
            "+----------------+---------+\n",
            "\n",
            "Average Weekly Change: -2.13%\n",
            "\n",
            "Last Week's Performance:\n",
            "+--------------------+---------+\n",
            "| Metric             | Value   |\n",
            "+====================+=========+\n",
            "| Last Week's Low    | $5.08   |\n",
            "+--------------------+---------+\n",
            "| Last Week's High   | $5.73   |\n",
            "+--------------------+---------+\n",
            "| Last Week's Change | 3.54%   |\n",
            "+--------------------+---------+\n",
            "\n",
            "Recommendations:\n",
            "+------------------------+---------+\n",
            "| Action                 | Price   |\n",
            "+========================+=========+\n",
            "| Recommended Buy Price  | $5.15   |\n",
            "+------------------------+---------+\n",
            "| Recommended Sell Price | $5.37   |\n",
            "+------------------------+---------+\n",
            "\n",
            "Stock Analysis Tool\n",
            "1. Analyze a single stock\n",
            "2. Search for promising stocks\n",
            "3. View Stock Market Glossary\n",
            "4. Exit\n",
            "Enter your choice (1-4): 2\n",
            "Enter the number of stocks to search and analyze (recommended: 100 to 1000): 300\n",
            "Fetching 300 stock tickers...\n",
            "Retrieved 300 tickers.\n"
          ]
        },
        {
          "output_type": "stream",
          "name": "stderr",
          "text": [
            "Analyzing stocks:   1%|          | 2/300 [00:00<01:34,  3.14it/s]ERROR:yfinance:CETUR: Period '3mo' is invalid, must be one of ['1d', '5d']\n",
            "ERROR:yfinance:RMCOW: Period '3mo' is invalid, must be one of ['1d', '5d']\n",
            "Analyzing stocks:   1%|▏         | 4/300 [00:00<00:47,  6.26it/s]ERROR:yfinance:IMAQW: Period '3mo' is invalid, must be one of ['1d', '5d']\n",
            "Analyzing stocks:   2%|▏         | 6/300 [00:00<00:31,  9.25it/s]"
          ]
        },
        {
          "output_type": "stream",
          "name": "stdout",
          "text": [
            "Warning: No data available for CETUR in the specified period.\n",
            "Warning: No data available for RMCOW in the specified period.\n",
            "Warning: No data available for IMAQW in the specified period.\n"
          ]
        },
        {
          "output_type": "stream",
          "name": "stderr",
          "text": [
            "Analyzing stocks:  10%|█         | 30/300 [00:03<00:29,  9.28it/s]ERROR:yfinance:VNO^L: No data found, symbol may be delisted\n",
            "Analyzing stocks:  11%|█         | 33/300 [00:04<00:39,  6.68it/s]"
          ]
        },
        {
          "output_type": "stream",
          "name": "stdout",
          "text": [
            "Warning: No data available for VNO^L in the specified period.\n"
          ]
        },
        {
          "output_type": "stream",
          "name": "stderr",
          "text": [
            "Analyzing stocks:  13%|█▎        | 38/300 [00:04<00:26,  9.74it/s]ERROR:yfinance:MER^K: No data found, symbol may be delisted\n",
            "Analyzing stocks:  14%|█▍        | 42/300 [00:04<00:28,  9.12it/s]ERROR:yfinance:ONFOW: Period '3mo' is invalid, must be one of ['1d', '5d']\n"
          ]
        },
        {
          "output_type": "stream",
          "name": "stdout",
          "text": [
            "Warning: No data available for MER^K in the specified period.\n",
            "Warning: No data available for ONFOW in the specified period.\n"
          ]
        },
        {
          "output_type": "stream",
          "name": "stderr",
          "text": [
            "Analyzing stocks:  21%|██        | 62/300 [00:06<00:24,  9.74it/s]ERROR:yfinance:PEB^E: No data found, symbol may be delisted\n",
            "Analyzing stocks:  22%|██▏       | 67/300 [00:06<00:25,  9.10it/s]"
          ]
        },
        {
          "output_type": "stream",
          "name": "stdout",
          "text": [
            "Warning: No data available for PEB^E in the specified period.\n"
          ]
        },
        {
          "output_type": "stream",
          "name": "stderr",
          "text": [
            "Analyzing stocks:  26%|██▌       | 78/300 [00:07<00:13, 16.35it/s]ERROR:yfinance:BLACW: Period '3mo' is invalid, must be one of ['1d', '5d']\n",
            "Analyzing stocks:  27%|██▋       | 81/300 [00:08<00:21, 10.41it/s]"
          ]
        },
        {
          "output_type": "stream",
          "name": "stdout",
          "text": [
            "Warning: No data available for BLACW in the specified period.\n"
          ]
        },
        {
          "output_type": "stream",
          "name": "stderr",
          "text": [
            "ERROR:yfinance:DUK^A: No data found, symbol may be delisted\n",
            "Analyzing stocks:  29%|██▉       | 87/300 [00:08<00:21, 10.04it/s]ERROR:yfinance:DX^C: No data found, symbol may be delisted\n",
            "ERROR:yfinance:ANSCW: Period '3mo' is invalid, must be one of ['1d', '5d']\n",
            "Analyzing stocks:  30%|███       | 91/300 [00:08<00:17, 11.92it/s]"
          ]
        },
        {
          "output_type": "stream",
          "name": "stdout",
          "text": [
            "Warning: No data available for DUK^A in the specified period.\n",
            "Warning: No data available for DX^C in the specified period.\n",
            "Warning: No data available for ANSCW in the specified period.\n"
          ]
        },
        {
          "output_type": "stream",
          "name": "stderr",
          "text": [
            "Analyzing stocks:  34%|███▎      | 101/300 [00:09<00:20,  9.68it/s]ERROR:yfinance:AHT^G: No data found, symbol may be delisted\n",
            "Analyzing stocks:  36%|███▌      | 108/300 [00:10<00:17, 10.78it/s]"
          ]
        },
        {
          "output_type": "stream",
          "name": "stdout",
          "text": [
            "Warning: No data available for AHT^G in the specified period.\n"
          ]
        },
        {
          "output_type": "stream",
          "name": "stderr",
          "text": [
            "\rAnalyzing stocks:  37%|███▋      | 110/300 [00:11<00:28,  6.56it/s]ERROR:yfinance:CUBI^E: No data found, symbol may be delisted\n",
            "ERROR:yfinance:BW^A: No data found, symbol may be delisted\n",
            "Analyzing stocks:  39%|███▊      | 116/300 [00:12<00:25,  7.33it/s]ERROR:yfinance:MS^F: No data found, symbol may be delisted\n",
            "Analyzing stocks:  40%|███▉      | 119/300 [00:12<00:20,  8.67it/s]"
          ]
        },
        {
          "output_type": "stream",
          "name": "stdout",
          "text": [
            "Warning: No data available for CUBI^E in the specified period.\n",
            "Warning: No data available for BW^A in the specified period.\n",
            "Warning: No data available for MS^F in the specified period.\n"
          ]
        },
        {
          "output_type": "stream",
          "name": "stderr",
          "text": [
            "Analyzing stocks:  42%|████▏     | 126/300 [00:13<00:20,  8.29it/s]ERROR:yfinance:SNV^E: No data found, symbol may be delisted\n",
            "Analyzing stocks:  43%|████▎     | 130/300 [00:13<00:22,  7.63it/s]ERROR:yfinance:TETEW: Period '3mo' is invalid, must be one of ['1d', '5d']\n",
            "Analyzing stocks:  44%|████▍     | 132/300 [00:13<00:20,  8.26it/s]"
          ]
        },
        {
          "output_type": "stream",
          "name": "stdout",
          "text": [
            "Warning: No data available for SNV^E in the specified period.\n",
            "Warning: No data available for TETEW in the specified period.\n"
          ]
        },
        {
          "output_type": "stream",
          "name": "stderr",
          "text": [
            "Analyzing stocks:  45%|████▍     | 134/300 [00:13<00:18,  9.15it/s]ERROR:yfinance:ABLLW: Period '3mo' is invalid, must be one of ['1d', '5d']\n",
            "Analyzing stocks:  46%|████▌     | 138/300 [00:14<00:13, 12.08it/s]"
          ]
        },
        {
          "output_type": "stream",
          "name": "stdout",
          "text": [
            "Warning: No data available for ABLLW in the specified period.\n"
          ]
        },
        {
          "output_type": "stream",
          "name": "stderr",
          "text": [
            "Analyzing stocks:  58%|█████▊    | 175/300 [00:17<00:12,  9.83it/s]ERROR:yfinance:BOH^A: No data found, symbol may be delisted\n",
            "Analyzing stocks:  60%|█████▉    | 179/300 [00:17<00:17,  7.06it/s]"
          ]
        },
        {
          "output_type": "stream",
          "name": "stdout",
          "text": [
            "Warning: No data available for BOH^A in the specified period.\n"
          ]
        },
        {
          "output_type": "stream",
          "name": "stderr",
          "text": [
            "Analyzing stocks:  65%|██████▌   | 195/300 [00:18<00:06, 16.15it/s]ERROR:yfinance:OAKUW: Period '3mo' is invalid, must be one of ['1d', '5d']\n",
            "Analyzing stocks:  67%|██████▋   | 200/300 [00:18<00:05, 19.56it/s]"
          ]
        },
        {
          "output_type": "stream",
          "name": "stdout",
          "text": [
            "Warning: No data available for OAKUW in the specified period.\n"
          ]
        },
        {
          "output_type": "stream",
          "name": "stderr",
          "text": [
            "Analyzing stocks:  71%|███████   | 213/300 [00:20<00:07, 11.22it/s]ERROR:yfinance:SF^C: No data found, symbol may be delisted\n",
            "Analyzing stocks:  73%|███████▎  | 219/300 [00:20<00:07, 10.27it/s]"
          ]
        },
        {
          "output_type": "stream",
          "name": "stdout",
          "text": [
            "Warning: No data available for SF^C in the specified period.\n"
          ]
        },
        {
          "output_type": "stream",
          "name": "stderr",
          "text": [
            "ERROR:yfinance:GFAIW: Period '3mo' is invalid, must be one of ['1d', '5d']\n",
            "Analyzing stocks:  74%|███████▍  | 222/300 [00:21<00:10,  7.25it/s]"
          ]
        },
        {
          "output_type": "stream",
          "name": "stdout",
          "text": [
            "Warning: No data available for GFAIW in the specified period.\n"
          ]
        },
        {
          "output_type": "stream",
          "name": "stderr",
          "text": [
            "ERROR:yfinance:PSA^G: No data found, symbol may be delisted\n",
            "Analyzing stocks:  76%|███████▌  | 228/300 [00:22<00:08,  8.04it/s]"
          ]
        },
        {
          "output_type": "stream",
          "name": "stdout",
          "text": [
            "Warning: No data available for PSA^G in the specified period.\n"
          ]
        },
        {
          "output_type": "stream",
          "name": "stderr",
          "text": [
            "Analyzing stocks:  82%|████████▏ | 247/300 [00:23<00:02, 18.28it/s]ERROR:yfinance:FATBW: Period '3mo' is invalid, must be one of ['1d', '5d']\n",
            "Analyzing stocks:  84%|████████▎ | 251/300 [00:23<00:02, 20.55it/s]"
          ]
        },
        {
          "output_type": "stream",
          "name": "stdout",
          "text": [
            "Warning: No data available for FATBW in the specified period.\n"
          ]
        },
        {
          "output_type": "stream",
          "name": "stderr",
          "text": [
            "Analyzing stocks:  86%|████████▌ | 258/300 [00:24<00:03, 11.21it/s]ERROR:yfinance:EFC^C: No data found, symbol may be delisted\n",
            "Analyzing stocks:  88%|████████▊ | 264/300 [00:25<00:03,  9.42it/s]"
          ]
        },
        {
          "output_type": "stream",
          "name": "stdout",
          "text": [
            "Warning: No data available for EFC^C in the specified period.\n"
          ]
        },
        {
          "output_type": "stream",
          "name": "stderr",
          "text": [
            "Analyzing stocks:  95%|█████████▌| 285/300 [00:26<00:01, 11.44it/s]ERROR:yfinance:ANG^A: No data found, symbol may be delisted\n",
            "Analyzing stocks:  96%|█████████▋| 289/300 [00:27<00:01,  8.15it/s]ERROR:yfinance:LSEAW: Period '3mo' is invalid, must be one of ['1d', '5d']\n"
          ]
        },
        {
          "output_type": "stream",
          "name": "stdout",
          "text": [
            "Warning: No data available for ANG^A in the specified period.\n",
            "Warning: No data available for LSEAW in the specified period.\n"
          ]
        },
        {
          "output_type": "stream",
          "name": "stderr",
          "text": [
            "Analyzing stocks: 100%|██████████| 300/300 [00:27<00:00, 10.82it/s]\n"
          ]
        },
        {
          "output_type": "stream",
          "name": "stdout",
          "text": [
            "\n",
            "Analysis completed in 27.83 seconds.\n",
            "Found 10 promising stocks.\n"
          ]
        }
      ],
      "source": [
        "import yfinance as yf\n",
        "import pandas as pd\n",
        "import numpy as np\n",
        "from concurrent.futures import ThreadPoolExecutor, as_completed\n",
        "from tqdm import tqdm\n",
        "import time\n",
        "import random\n",
        "import requests\n",
        "from tabulate import tabulate\n",
        "\n",
        "def get_tickers(num_stocks):\n",
        "    base_url = \"https://api.nasdaq.com/api/screener/stocks?tableonly=true&limit=7754&download=true\"\n",
        "    headers = {\n",
        "        \"User-Agent\": \"Mozilla/5.0 (Windows NT 10.0; Win64; x64) AppleWebKit/537.36 (KHTML, like Gecko) Chrome/91.0.4472.124 Safari/537.36\"\n",
        "    }\n",
        "\n",
        "    try:\n",
        "        response = requests.get(base_url, headers=headers)\n",
        "        response.raise_for_status()\n",
        "        data = response.json()\n",
        "\n",
        "        if 'data' not in data or 'rows' not in data['data']:\n",
        "            raise ValueError(\"Unexpected data format from NASDAQ API\")\n",
        "\n",
        "        tickers = [row['symbol'] for row in data['data']['rows']]\n",
        "\n",
        "        if len(tickers) < num_stocks:\n",
        "            print(f\"Warning: Only {len(tickers)} stocks available. Using all of them.\")\n",
        "        else:\n",
        "            random.shuffle(tickers)\n",
        "            tickers = tickers[:num_stocks]\n",
        "\n",
        "        return tickers\n",
        "    except Exception as e:\n",
        "        print(f\"Error fetching tickers: {str(e)}\")\n",
        "        return []\n",
        "\n",
        "def get_stock_data(ticker, period=\"3mo\"):\n",
        "    try:\n",
        "        stock = yf.Ticker(ticker)\n",
        "        history = stock.history(period=period)\n",
        "        if history.empty:\n",
        "            print(f\"Warning: No data available for {ticker} in the specified period.\")\n",
        "            return None, None\n",
        "        return stock, history\n",
        "    except Exception as e:\n",
        "        print(f\"Error fetching data for {ticker}: {str(e)}\")\n",
        "        return None, None\n",
        "\n",
        "def calculate_rsi(data, window=14):\n",
        "    delta = data['Close'].diff()\n",
        "    gain = (delta.where(delta > 0, 0)).rolling(window=window).mean()\n",
        "    loss = (-delta.where(delta < 0, 0)).rolling(window=window).mean()\n",
        "    rs = gain / loss\n",
        "    return 100 - (100 / (1 + rs))\n",
        "\n",
        "def analyze_weekly_change(history):\n",
        "    weekly_changes = history['Close'].resample('W').last().pct_change()\n",
        "    return weekly_changes.mean()\n",
        "\n",
        "def get_recommendations(history, avg_weekly_change):\n",
        "    current_price = history['Close'].iloc[-1]\n",
        "\n",
        "    # Calculate buy price: Use a larger discount for negative weekly changes\n",
        "    discount = max(0.02, abs(avg_weekly_change)) if avg_weekly_change < 0 else 0.02\n",
        "    buy_price = current_price * (1 - discount)\n",
        "\n",
        "    # Calculate sell price: Ensure it's always higher than the current price\n",
        "    sell_price = current_price * (1 + max(0.02, avg_weekly_change))\n",
        "\n",
        "    return buy_price, sell_price\n",
        "\n",
        "def analyze_stock(ticker):\n",
        "    stock, history = get_stock_data(ticker)\n",
        "    if stock is None or history is None or history.empty or len(history) < 14:  # Minimum data for RSI calculation\n",
        "        return None\n",
        "\n",
        "    history['RSI'] = calculate_rsi(history)\n",
        "    history['SMA_50'] = history['Close'].rolling(window=50).mean()\n",
        "    history['SMA_200'] = history['Close'].rolling(window=200).mean()\n",
        "\n",
        "    current_price = history['Close'].iloc[-1]\n",
        "    current_rsi = history['RSI'].iloc[-1]\n",
        "    sma_50 = history['SMA_50'].iloc[-1]\n",
        "    sma_200 = history['SMA_200'].iloc[-1]\n",
        "\n",
        "    # Relaxed criteria for promising stocks\n",
        "    if (current_rsi < 40 and current_price > sma_50 * 0.95):  # Relaxed RSI and price condition\n",
        "        avg_weekly_change = analyze_weekly_change(history)\n",
        "        buy_price, sell_price = get_recommendations(history, avg_weekly_change)\n",
        "\n",
        "        return {\n",
        "            'ticker': ticker,\n",
        "            'current_price': current_price,\n",
        "            'rsi': current_rsi,\n",
        "            'buy_price': buy_price,\n",
        "            'sell_price': sell_price,\n",
        "            'potential_gain': (sell_price / buy_price - 1) * 100\n",
        "        }\n",
        "\n",
        "    return None\n",
        "\n",
        "def find_promising_stocks(tickers, max_workers=10):\n",
        "    promising_stocks = []\n",
        "    with ThreadPoolExecutor(max_workers=max_workers) as executor:\n",
        "        futures = {executor.submit(analyze_stock, ticker): ticker for ticker in tickers}\n",
        "        for future in tqdm(as_completed(futures), total=len(tickers), desc=\"Analyzing stocks\"):\n",
        "            result = future.result()\n",
        "            if result:\n",
        "                promising_stocks.append(result)\n",
        "\n",
        "    return sorted(promising_stocks, key=lambda x: x['potential_gain'], reverse=True)\n",
        "\n",
        "def display_stock_info(ticker):\n",
        "    stock, history = get_stock_data(ticker, period=\"1y\")\n",
        "\n",
        "    if stock is None or history is None or history.empty:\n",
        "        print(f\"Unable to fetch data for {ticker}\")\n",
        "        return\n",
        "\n",
        "    info = stock.info\n",
        "    current_price = history['Close'].iloc[-1]\n",
        "\n",
        "    data = [\n",
        "        [\"Current Price\", f\"${current_price:.2f}\"],\n",
        "        [\"52 Week High\", f\"${info.get('fiftyTwoWeekHigh', 'N/A')}\"],\n",
        "        [\"52 Week Low\", f\"${info.get('fiftyTwoWeekLow', 'N/A')}\"],\n",
        "        [\"Market Cap\", f\"${info.get('marketCap', 0) / 1e9:.2f}B\"],\n",
        "        [\"P/E Ratio\", f\"{info.get('trailingPE', 'N/A')}\"],\n",
        "        [\"Dividend Yield\", f\"{info.get('dividendYield', 0) * 100:.2f}%\"],\n",
        "    ]\n",
        "\n",
        "    print(f\"\\nStock Information for {ticker}:\")\n",
        "    print(tabulate(data, headers=[\"Metric\", \"Value\"], tablefmt=\"grid\"))\n",
        "\n",
        "    avg_weekly_change = analyze_weekly_change(history)\n",
        "    print(f\"\\nAverage Weekly Change: {avg_weekly_change:.2%}\")\n",
        "\n",
        "    last_week = history.last('1w')\n",
        "    weekly_low = last_week['Low'].min()\n",
        "    weekly_high = last_week['High'].max()\n",
        "    weekly_change = (last_week['Close'].iloc[-1] / last_week['Open'].iloc[0] - 1)\n",
        "\n",
        "    weekly_data = [\n",
        "        [\"Last Week's Low\", f\"${weekly_low:.2f}\"],\n",
        "        [\"Last Week's High\", f\"${weekly_high:.2f}\"],\n",
        "        [\"Last Week's Change\", f\"{weekly_change:.2%}\"],\n",
        "    ]\n",
        "\n",
        "    print(\"\\nLast Week's Performance:\")\n",
        "    print(tabulate(weekly_data, headers=[\"Metric\", \"Value\"], tablefmt=\"grid\"))\n",
        "\n",
        "    buy_price, sell_price = get_recommendations(history, avg_weekly_change)\n",
        "\n",
        "    recommendation_data = [\n",
        "        [\"Recommended Buy Price\", f\"${buy_price:.2f}\"],\n",
        "        [\"Recommended Sell Price\", f\"${sell_price:.2f}\"],\n",
        "    ]\n",
        "\n",
        "    print(\"\\nRecommendations:\")\n",
        "    print(tabulate(recommendation_data, headers=[\"Action\", \"Price\"], tablefmt=\"grid\"))\n",
        "\n",
        "def display_glossary():\n",
        "    glossary = {\n",
        "        \"Stock\": \"A share in the ownership of a company, representing a claim on the company's assets and earnings.\",\n",
        "        \"Bull Market\": \"A market condition in which stock prices are rising or are expected to rise.\",\n",
        "        \"Bear Market\": \"A market condition in which stock prices are falling or are expected to fall.\",\n",
        "        \"Dividend\": \"A portion of a company's earnings paid out to shareholders.\",\n",
        "        \"P/E Ratio\": \"Price-to-Earnings Ratio, a valuation ratio of a company's current share price compared to its per-share earnings.\",\n",
        "        \"Market Cap\": \"The total dollar market value of a company's outstanding shares.\",\n",
        "        \"Volume\": \"The number of shares traded during a given time period.\",\n",
        "        \"Yield\": \"The income return on an investment, such as the interest or dividends received from holding a particular security.\",\n",
        "        \"IPO\": \"Initial Public Offering, the first sale of stock by a private company to the public.\",\n",
        "        \"Volatility\": \"A statistical measure of the dispersion of returns for a given security or market index.\",\n",
        "        \"Blue Chip\": \"Stock of a large, well-established and financially sound company that has operated for many years.\",\n",
        "        \"RSI\": \"Relative Strength Index, a momentum indicator that measures the magnitude of recent price changes to evaluate overbought or oversold conditions.\",\n",
        "        \"SMA\": \"Simple Moving Average, an arithmetic moving average calculated by adding recent prices and then dividing that by the number of time periods in the calculation average.\",\n",
        "        \"Broker\": \"An individual or firm that charges a fee or commission for executing buy and sell orders submitted by an investor.\",\n",
        "        \"Exchange\": \"A marketplace in which securities, commodities, derivatives and other financial instruments are traded.\",\n",
        "        \"NASDAQ\": \"National Association of Securities Dealers Automated Quotations, a global electronic marketplace for buying and selling securities.\",\n",
        "        \"NYSE\": \"New York Stock Exchange, the world's largest securities exchange by market capitalization.\",\n",
        "        \"SEC\": \"Securities and Exchange Commission, a U.S. government agency responsible for enforcing federal securities laws and regulating the securities industry.\",\n",
        "        \"Portfolio\": \"A grouping of financial assets such as stocks, bonds, commodities, currencies and cash equivalents.\",\n",
        "        \"Diversification\": \"A risk management strategy that mixes a wide variety of investments within a portfolio.\"\n",
        "    }\n",
        "\n",
        "    print(\"\\nStock Market Glossary:\")\n",
        "    for term, definition in glossary.items():\n",
        "        print(f\"\\n{term}:\")\n",
        "        print(f\"  {definition}\")\n",
        "\n",
        "def main():\n",
        "    while True:\n",
        "        print(\"\\nStock Analysis Tool\")\n",
        "        print(\"1. Analyze a single stock\")\n",
        "        print(\"2. Search for promising stocks\")\n",
        "        print(\"3. View Stock Market Glossary\")\n",
        "        print(\"4. Exit\")\n",
        "\n",
        "        choice = input(\"Enter your choice (1-4): \").strip()\n",
        "\n",
        "        if choice == '1':\n",
        "            ticker = input(\"Enter the stock ticker symbol: \").strip().upper()\n",
        "            display_stock_info(ticker)\n",
        "\n",
        "        elif choice == '2':\n",
        "            while True:\n",
        "                try:\n",
        "                    num_stocks = int(input(\"Enter the number of stocks to search and analyze (recommended: 100 to 1000): \"))\n",
        "                    if num_stocks > 0:\n",
        "                        break\n",
        "                    else:\n",
        "                        print(\"Please enter a positive number.\")\n",
        "                except ValueError:\n",
        "                    print(\"Please enter a valid integer.\")\n",
        "\n",
        "            print(f\"Fetching {num_stocks} stock tickers...\")\n",
        "            tickers_to_analyze = get_tickers(num_stocks)\n",
        "\n",
        "            if not tickers_to_analyze:\n",
        "                print(\"No tickers found. Please try again later.\")\n",
        "                continue\n",
        "\n",
        "            print(f\"Retrieved {len(tickers_to_analyze)} tickers.\")\n",
        "\n",
        "            start_time = time.time()\n",
        "            promising_stocks = find_promising_stocks(tickers_to_analyze)\n",
        "            end_time = time.time()\n",
        "\n",
        "            print(f\"\\nAnalysis completed in {end_time - start_time:.2f} seconds.\")\n",
        "            print(f\"Found {len(promising_stocks)} promising stocks.\")\n",
        "\n",
        "            if not promising_stocks:\n",
        "                print(\"No promising stocks found based on the current criteria.\")\n",
        "                continue\n",
        "\n",
        "            while True:\n",
        "                try:\n",
        "                    top_n = int(input(\"Enter the number of top stocks to display: \"))\n",
        "                    if top_n > 0:\n",
        "                        break\n",
        "                    else:\n",
        "                        print(\"Please enter a positive number.\")\n",
        "                except ValueError:\n",
        "                    print(\"Please enter a valid integer.\")\n",
        "\n",
        "            print(f\"\\nTop {min(top_n, len(promising_stocks))} Promising Stocks:\")\n",
        "            for i, stock in enumerate(promising_stocks[:top_n], 1):\n",
        "                print(f\"{i}. {stock['ticker']}:\")\n",
        "                print(f\"   Current Price: ${stock['current_price']:.2f}\")\n",
        "                print(f\"   RSI: {stock['rsi']:.2f}\")\n",
        "                print(f\"   Recommended Buy Price: ${stock['buy_price']:.2f}\")\n",
        "                print(f\"   Recommended Sell Price: ${stock['sell_price']:.2f}\")\n",
        "                print(f\"   Potential Gain: {stock['potential_gain']:.2%}\\n\")\n",
        "\n",
        "        elif choice == '3':\n",
        "            display_glossary()\n",
        "\n",
        "        elif choice == '4':\n",
        "            print(\"Thank you for using the Stock Analysis Tool. Goodbye!\")\n",
        "            break\n",
        "\n",
        "        else:\n",
        "            print(\"Invalid choice. Please enter 1, 2, 3, or 4.\")\n",
        "\n",
        "if __name__ == \"__main__\":\n",
        "    main()"
      ]
    }
  ],
  "metadata": {
    "colab": {
      "provenance": []
    },
    "kernelspec": {
      "display_name": "Python 3",
      "name": "python3"
    },
    "language_info": {
      "name": "python"
    }
  },
  "nbformat": 4,
  "nbformat_minor": 0
}